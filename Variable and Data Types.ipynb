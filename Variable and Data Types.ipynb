{
 "cells": [
  {
   "cell_type": "markdown",
   "metadata": {
    "collapsed": true
   },
   "source": [
    "1.Write a python program to print datatype of a varaible"
   ]
  },
  {
   "cell_type": "code",
   "execution_count": 2,
   "metadata": {},
   "outputs": [
    {
     "name": "stdout",
     "output_type": "stream",
     "text": [
      "1 is of type <class 'int'>\n",
      "1 is of type <class 'int'>\n",
      "1 is complex number? True\n"
     ]
    }
   ],
   "source": [
    "a = 1\n",
    "print(a, \"is of type\", type(a))\n",
    "\n",
    "b = 2.0\n",
    "print(a, \"is of type\", type(a))\n",
    "\n",
    "c = 1+2j\n",
    "print(a, \"is complex number?\", isinstance(1+2j,complex))"
   ]
  },
  {
   "cell_type": "markdown",
   "metadata": {},
   "source": [
    "2.Write a python program to extract an item or a range of items from a list.\n",
    "\n"
   ]
  },
  {
   "cell_type": "code",
   "execution_count": 8,
   "metadata": {},
   "outputs": [
    {
     "name": "stdout",
     "output_type": "stream",
     "text": [
      "35\n",
      "[15, 20, 35]\n",
      "[30, 35, 60]\n",
      "[15, 20, 35, 40, 45, 30]\n"
     ]
    }
   ],
   "source": [
    "a = [15,20,35,40,45,30,35,60]\n",
    "\n",
    "print(a[2])\n",
    "\n",
    "print(a[0:3])\n",
    "\n",
    "print(a[5:])\n",
    "\n",
    "print(a[:6])"
   ]
  },
  {
   "cell_type": "markdown",
   "metadata": {},
   "source": [
    "3.Converting Floats to Integers\n"
   ]
  },
  {
   "cell_type": "code",
   "execution_count": 9,
   "metadata": {},
   "outputs": [
    {
     "name": "stdout",
     "output_type": "stream",
     "text": [
      "125\n",
      "390\n"
     ]
    }
   ],
   "source": [
    "b = 125.0\n",
    "c = 390.8\n",
    "\n",
    "print(int(b))\n",
    "print(int(c))"
   ]
  },
  {
   "cell_type": "markdown",
   "metadata": {},
   "source": [
    "4.Converting Numbers to Strings"
   ]
  },
  {
   "cell_type": "code",
   "execution_count": 15,
   "metadata": {},
   "outputs": [
    {
     "name": "stdout",
     "output_type": "stream",
     "text": [
      "10 is of type <class 'int'>\n",
      "10 is of type <class 'str'>\n"
     ]
    }
   ],
   "source": [
    "a = 10\n",
    "\n",
    "print(a, \"is of type\", type(a))\n",
    "\n",
    "b = str(a)\n",
    "\n",
    "print(b, \"is of type\", type(b))\n"
   ]
  },
  {
   "cell_type": "markdown",
   "metadata": {},
   "source": [
    "5.Converting Strings to Numbers"
   ]
  },
  {
   "cell_type": "code",
   "execution_count": 18,
   "metadata": {},
   "outputs": [
    {
     "name": "stdout",
     "output_type": "stream",
     "text": [
      "-58\n"
     ]
    }
   ],
   "source": [
    "a = \"50\"\n",
    "b = \"108\"\n",
    "\n",
    "lines_more = int(a) - int(b)\n",
    "\n",
    "print(lines_more)"
   ]
  },
  {
   "cell_type": "markdown",
   "metadata": {},
   "source": [
    "6.Converting list to Tuples"
   ]
  },
  {
   "cell_type": "code",
   "execution_count": 22,
   "metadata": {},
   "outputs": [
    {
     "name": "stdout",
     "output_type": "stream",
     "text": [
      "('request', 'source', 'repository', 'branch')\n"
     ]
    }
   ],
   "source": [
    "print(tuple(['request', 'source', 'repository', 'branch']))\n"
   ]
  },
  {
   "cell_type": "markdown",
   "metadata": {},
   "source": [
    "7.Converting tuple to Lists"
   ]
  },
  {
   "cell_type": "code",
   "execution_count": 23,
   "metadata": {},
   "outputs": [
    {
     "name": "stdout",
     "output_type": "stream",
     "text": [
      "['blue', 'red', 'white']\n"
     ]
    }
   ],
   "source": [
    "print(list(('blue', 'red', 'white')))"
   ]
  },
  {
   "cell_type": "markdown",
   "metadata": {
    "collapsed": true
   },
   "source": [
    "8.converting strings to lists:"
   ]
  },
  {
   "cell_type": "code",
   "execution_count": 27,
   "metadata": {},
   "outputs": [
    {
     "name": "stdout",
     "output_type": "stream",
     "text": [
      "['I', 'N', 'S', 'A', 'I', 'D']\n"
     ]
    }
   ],
   "source": [
    "print(list('INSAID'))"
   ]
  },
  {
   "cell_type": "markdown",
   "metadata": {},
   "source": [
    "9.Assign different data types to a varibles "
   ]
  },
  {
   "cell_type": "code",
   "execution_count": 26,
   "metadata": {
    "collapsed": true
   },
   "outputs": [],
   "source": [
    "my_string = 'Hello, World!'\n",
    "my_flt = 45.06\n",
    "my_bool = 5 > 9 #A Boolean value will return either True or False\n",
    "my_list = ['item_1', 'item_2', 'item_3', 'item_4']\n",
    "my_tuple = ('one', 'two', 'three')\n",
    "my_dict = {'letter': 'g', 'number': 'seven', 'symbol': '&'}"
   ]
  }
 ],
 "metadata": {
  "kernelspec": {
   "display_name": "Python 3",
   "language": "python",
   "name": "python3"
  },
  "language_info": {
   "codemirror_mode": {
    "name": "ipython",
    "version": 3
   },
   "file_extension": ".py",
   "mimetype": "text/x-python",
   "name": "python",
   "nbconvert_exporter": "python",
   "pygments_lexer": "ipython3",
   "version": "3.6.1"
  }
 },
 "nbformat": 4,
 "nbformat_minor": 2
}
