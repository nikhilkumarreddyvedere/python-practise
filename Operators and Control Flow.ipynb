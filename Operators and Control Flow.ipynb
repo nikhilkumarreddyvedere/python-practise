{
 "cells": [
  {
   "cell_type": "markdown",
   "metadata": {
    "collapsed": true
   },
   "source": [
    "pyhton program for conditional statements\n",
    "\n",
    "1)If the student receives over 65% on her test, report that her grade passes; if not, report that her grade fails"
   ]
  },
  {
   "cell_type": "code",
   "execution_count": 1,
   "metadata": {},
   "outputs": [
    {
     "name": "stdout",
     "output_type": "stream",
     "text": [
      "Passing grade\n"
     ]
    }
   ],
   "source": [
    "grade = 70\n",
    "\n",
    "if grade >= 65:\n",
    "    print(\"Passing grade\")\n",
    "    \n",
    "    "
   ]
  },
  {
   "cell_type": "code",
   "execution_count": 4,
   "metadata": {},
   "outputs": [
    {
     "name": "stdout",
     "output_type": "stream",
     "text": [
      "Failing grade\n"
     ]
    }
   ],
   "source": [
    "grade = 60\n",
    "\n",
    "if grade >= 65:\n",
    "    print(\"Passing grade\")\n",
    "\n",
    "else:\n",
    "    print(\"Failing grade\")"
   ]
  },
  {
   "cell_type": "markdown",
   "metadata": {},
   "source": [
    "write a python program calculate whether a bank account balance is below 0"
   ]
  },
  {
   "cell_type": "code",
   "execution_count": 6,
   "metadata": {},
   "outputs": [
    {
     "name": "stdout",
     "output_type": "stream",
     "text": [
      "Your balance is 0 or above.\n"
     ]
    }
   ],
   "source": [
    "balance = 522\n",
    "\n",
    "if balance < 0:\n",
    "    print(\"Balance is below 0, add funds now or you will be charged a penalty.\")\n",
    "\n",
    "else:\n",
    "    print(\"Your balance is 0 or above.\")\n"
   ]
  },
  {
   "cell_type": "markdown",
   "metadata": {},
   "source": [
    "using Else if statement"
   ]
  },
  {
   "cell_type": "code",
   "execution_count": 8,
   "metadata": {},
   "outputs": [
    {
     "name": "stdout",
     "output_type": "stream",
     "text": [
      "Your balance is 0 or above.\n"
     ]
    }
   ],
   "source": [
    "balance = 522\n",
    "\n",
    "if balance < 0:\n",
    "    print(\"Balance is below 0, add funds now or you will be charged a penalty.\")\n",
    "\n",
    "elif balance == 0:\n",
    "    print(\"Balance is equal to 0, add funds soon.\")\n",
    "\n",
    "else:\n",
    "    print(\"Your balance is 0 or above.\")"
   ]
  },
  {
   "cell_type": "markdown",
   "metadata": {},
   "source": [
    "Python program to print  Fibonacci series between 0 to 50."
   ]
  },
  {
   "cell_type": "code",
   "execution_count": 5,
   "metadata": {},
   "outputs": [
    {
     "name": "stdout",
     "output_type": "stream",
     "text": [
      "Fibonacci sequence upto 50 :\n",
      "0 , 1 , 1 , 2 , 3 , 5 , 8 , 13 , 21 , 34 , 55 , 89 , 144 , 233 , 377 , 610 , 987 , 1597 , 2584 , 4181 , 6765 , 10946 , 17711 , 28657 , 46368 , 75025 , 121393 , 196418 , 317811 , 514229 , 832040 , 1346269 , 2178309 , 3524578 , 5702887 , 9227465 , 14930352 , 24157817 , 39088169 , 63245986 , 102334155 , 165580141 , 267914296 , 433494437 , 701408733 , 1134903170 , 1836311903 , 2971215073 , 4807526976 , 7778742049 , "
     ]
    }
   ],
   "source": [
    "nterms = 50\n",
    "\n",
    "a = 0\n",
    "b = 1\n",
    "\n",
    "count = 0\n",
    "\n",
    "if nterms <= 0:\n",
    "   print(\"enter a positive integer\")\n",
    "elif nterms == 1:\n",
    "   print(\"Fibonacci sequence upto\",nterms,\":\")\n",
    "   print(n1)\n",
    "else:\n",
    "   print(\"Fibonacci sequence upto\",nterms,\":\")\n",
    "   while count < nterms:\n",
    "       print(a,end=' , ')\n",
    "       nth = a + b\n",
    "       # update values\n",
    "       a = b\n",
    "       b = nth\n",
    "       count=count+1\n"
   ]
  },
  {
   "cell_type": "markdown",
   "metadata": {},
   "source": [
    "Python program to find numbers which are divisible by 7 and multiple of 5 between a range 150 to 270"
   ]
  },
  {
   "cell_type": "code",
   "execution_count": 12,
   "metadata": {},
   "outputs": [
    {
     "name": "stdout",
     "output_type": "stream",
     "text": [
      "175\n",
      "210\n",
      "245\n"
     ]
    }
   ],
   "source": [
    "for number in range(150,270):\n",
    "    if number %7==0 and number %5==0 :\n",
    "        print(number)"
   ]
  }
 ],
 "metadata": {
  "kernelspec": {
   "display_name": "Python 3",
   "language": "python",
   "name": "python3"
  },
  "language_info": {
   "codemirror_mode": {
    "name": "ipython",
    "version": 3
   },
   "file_extension": ".py",
   "mimetype": "text/x-python",
   "name": "python",
   "nbconvert_exporter": "python",
   "pygments_lexer": "ipython3",
   "version": "3.6.1"
  }
 },
 "nbformat": 4,
 "nbformat_minor": 2
}
