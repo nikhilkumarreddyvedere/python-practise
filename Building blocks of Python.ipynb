{
 "cells": [
  {
   "cell_type": "markdown",
   "metadata": {
    "collapsed": true
   },
   "source": [
    "1.Write a Python program to print the following string\n",
    "\n",
    "Sample String: \"Welcome to INSAID- International School of AI and Data Science\"\n",
    "\n"
   ]
  },
  {
   "cell_type": "code",
   "execution_count": null,
   "metadata": {
    "collapsed": true
   },
   "outputs": [],
   "source": [
    "print(\"Welcome to INSAID- International School of AI and Data Science\")"
   ]
  },
  {
   "cell_type": "markdown",
   "metadata": {},
   "source": [
    "In a “Hello, World!” program, a comment may look like this:"
   ]
  },
  {
   "cell_type": "code",
   "execution_count": null,
   "metadata": {
    "collapsed": true
   },
   "outputs": [],
   "source": [
    "# Print “Hello, World!” to console\n",
    "print(\"Hello, World!\")"
   ]
  },
  {
   "cell_type": "code",
   "execution_count": null,
   "metadata": {
    "collapsed": true
   },
   "outputs": [],
   "source": [
    "# Define sharks variable as a list of strings\n",
    "list_sample = ['hammer', 'white', 'fish', 'frilled', 'bullhead', 'requiem']\n",
    "\n",
    "# For loop that iterates over sharks list and prints each string item\n",
    "for sample in list_sample:\n",
    "   print(sample)"
   ]
  },
  {
   "cell_type": "markdown",
   "metadata": {},
   "source": [
    "2.Write a Python Program to Add Two Numbers"
   ]
  },
  {
   "cell_type": "code",
   "execution_count": null,
   "metadata": {
    "collapsed": true
   },
   "outputs": [],
   "source": [
    "# initialise two varaibles\n",
    "a = 5\n",
    "b = 3\n",
    "# Add two numbers\n",
    "sum = a + b\n",
    "\n",
    "# Display the sum\n",
    "print(\"the sum of a and b is {}\" .format(sum))"
   ]
  },
  {
   "cell_type": "markdown",
   "metadata": {},
   "source": [
    "3.Write a Python Program to Find the product of two numbers"
   ]
  },
  {
   "cell_type": "code",
   "execution_count": null,
   "metadata": {
    "collapsed": true
   },
   "outputs": [],
   "source": [
    "# initialise two varaibles\n",
    "a = 5\n",
    "b = 3\n",
    "# multiply two numbers\n",
    "c = a * b\n",
    "\n",
    "# Display the sum\n",
    "print(\"the product of a and b is {}\" .format(c))"
   ]
  },
  {
   "cell_type": "markdown",
   "metadata": {},
   "source": [
    "4.Write a python program to find the area of traingle\n",
    "\n",
    "given height and base of the traingle as 3 and 10"
   ]
  },
  {
   "cell_type": "code",
   "execution_count": null,
   "metadata": {
    "collapsed": true
   },
   "outputs": [],
   "source": [
    "# Area of the traingle A= 1/2(base * height)\n",
    "\n",
    "#given height=3 and base =10\n",
    "\n",
    "h=3;\n",
    "\n",
    "b=10;\n",
    "\n",
    "area_of_traingle = 1/2 * (h* b);\n",
    "\n",
    "print(\"the product of a and b is {}\" .format(area_of_traingle))\n"
   ]
  },
  {
   "cell_type": "markdown",
   "metadata": {},
   "source": [
    "5.Python Program to Swap Two Variables"
   ]
  },
  {
   "cell_type": "code",
   "execution_count": null,
   "metadata": {
    "collapsed": true
   },
   "outputs": [],
   "source": [
    "# initialise two varaibles\n",
    "a = 5\n",
    "b = 3\n",
    "\n",
    "# create a temporary variable and swap the values\n",
    "\n",
    "temp = a\n",
    "a = n\n",
    "b = temp\n",
    "\n",
    "print('The value of x after swapping: {}'.format(a))\n",
    "print('The value of y after swapping: {}'.format(b))"
   ]
  }
 ],
 "metadata": {
  "kernelspec": {
   "display_name": "Python 3",
   "language": "python",
   "name": "python3"
  },
  "language_info": {
   "codemirror_mode": {
    "name": "ipython",
    "version": 3
   },
   "file_extension": ".py",
   "mimetype": "text/x-python",
   "name": "python",
   "nbconvert_exporter": "python",
   "pygments_lexer": "ipython3",
   "version": "3.6.1"
  }
 },
 "nbformat": 4,
 "nbformat_minor": 2
}
